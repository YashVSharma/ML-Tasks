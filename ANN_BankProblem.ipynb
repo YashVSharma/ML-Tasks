{
  "nbformat": 4,
  "nbformat_minor": 0,
  "metadata": {
    "colab": {
      "name": "ANN_BankProblem.ipynb",
      "version": "0.3.2",
      "provenance": [],
      "collapsed_sections": [],
      "include_colab_link": true
    },
    "kernelspec": {
      "name": "python3",
      "display_name": "Python 3"
    }
  },
  "cells": [
    {
      "cell_type": "markdown",
      "metadata": {
        "id": "view-in-github",
        "colab_type": "text"
      },
      "source": [
        "<a href=\"https://colab.research.google.com/github/YashVSharma/ML-Tasks/blob/master/ANN_BankProblem.ipynb\" target=\"_parent\"><img src=\"https://colab.research.google.com/assets/colab-badge.svg\" alt=\"Open In Colab\"/></a>"
      ]
    },
    {
      "cell_type": "code",
      "metadata": {
        "id": "QhWNiPy023gT",
        "colab_type": "code",
        "colab": {}
      },
      "source": [
        "import numpy as np\n",
        "import pandas as pd\n",
        "import matplotlib.pyplot as plt\n",
        "import seaborn as sb\n",
        "bank=pd.read_csv(\"http://13.234.66.67/summer19/datasets/bank.csv\")\n",
        "\n"
      ],
      "execution_count": 0,
      "outputs": []
    },
    {
      "cell_type": "code",
      "metadata": {
        "id": "1NnZ6ALe3dMc",
        "colab_type": "code",
        "colab": {
          "base_uri": "https://localhost:8080/",
          "height": 283
        },
        "outputId": "d667d9e0-2493-42e1-a454-4de05d4b4d5b"
      },
      "source": [
        "#countplot by seaborn\n",
        "sb.countplot(bank['Gender'])\n",
        "features=bank.iloc[0:,3:13].values\n",
        "label=bank.iloc[:,13].values\n",
        "#to convert string data into numeric --- label encoding\n",
        "from sklearn.preprocessing import LabelEncoder\n",
        "countenc=LabelEncoder()\n",
        "features[0:,1]=countenc.fit_transform(features[0:,1])"
      ],
      "execution_count": 3,
      "outputs": [
        {
          "output_type": "display_data",
          "data": {
            "image/png": "[encoded data removed]",
            "text/plain": [
              "<Figure size 432x288 with 1 Axes>"
            ]
          },
          "metadata": {
            "tags": []
          }
        }
      ]
    },
    {
      "cell_type": "code",
      "metadata": {
        "id": "YVEqaPZU39Qo",
        "colab_type": "code",
        "colab": {}
      },
      "source": [
        "#creatin dummy variables using yash vardhan sharma\n",
        "from sklearn.preprocessing import OneHotEncoder\n",
        "counthot=OneHotEncoder(categorical_features=[1])"
      ],
      "execution_count": 0,
      "outputs": []
    },
    {
      "cell_type": "code",
      "metadata": {
        "id": "OrJHTvtH4y-F",
        "colab_type": "code",
        "colab": {}
      },
      "source": [
        "#fit and transform \n",
        "features=counthot.fit_transform(features).toarray()"
      ],
      "execution_count": 0,
      "outputs": []
    },
    {
      "cell_type": "code",
      "metadata": {
        "id": "KQ5WvwjX5q20",
        "colab_type": "code",
        "colab": {}
      },
      "source": [
        ""
      ],
      "execution_count": 0,
      "outputs": []
    }
  ]
}