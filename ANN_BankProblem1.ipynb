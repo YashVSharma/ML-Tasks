{
  "nbformat": 4,
  "nbformat_minor": 0,
  "metadata": {
    "colab": {
      "name": "ANN_BankProblem.ipynb",
      "version": "0.3.2",
      "provenance": [],
      "collapsed_sections": [],
      "include_colab_link": true
    },
    "kernelspec": {
      "name": "python3",
      "display_name": "Python 3"
    }
  },
  "cells": [
    {
      "cell_type": "markdown",
      "metadata": {
        "id": "view-in-github",
        "colab_type": "text"
      },
      "source": [
        "<a href=\"https://colab.research.google.com/github/YashVSharma/ML-Tasks/blob/master/ANN_BankProblem1.ipynb\" target=\"_parent\"><img src=\"https://colab.research.google.com/assets/colab-badge.svg\" alt=\"Open In Colab\"/></a>"
      ]
    },
    {
      "cell_type": "code",
      "metadata": {
        "id": "QhWNiPy023gT",
        "colab_type": "code",
        "colab": {}
      },
      "source": [
        "import numpy as np\n",
        "import pandas as pd\n",
        "import matplotlib.pyplot as plt\n",
        "import seaborn as sb\n",
        "bank=pd.read_csv(\"http://13.234.66.67/summer19/datasets/bank.csv\")\n",
        "\n"
      ],
      "execution_count": 0,
      "outputs": []
    },
    {
      "cell_type": "code",
      "metadata": {
        "id": "1NnZ6ALe3dMc",
        "colab_type": "code",
        "outputId": "583f8939-fb80-4bd5-d04a-2a198801ddbf",
        "colab": {
          "base_uri": "https://localhost:8080/",
          "height": 400
        }
      },
      "source": [
        "#countplot by seaborn\n",
        "sb.countplot(bank['Gender'])\n",
        "features=bank.iloc[:,3:13].values\n",
        "label=bank.iloc[:,13].values\n",
        "#to convert string data into numeric --- label encoding\n",
        "from sklearn.preprocessing import LabelEncoder\n",
        "countenc=LabelEncoder()\n",
        "features[:,1]=countenc.fit_transform(features[:,1])\n",
        "features[:,2]=countenc.fit_transform(features[:,2])\n",
        "features"
      ],
      "execution_count": 35,
      "outputs": [
        {
          "output_type": "execute_result",
          "data": {
            "text/plain": [
              "array([[619, 0, 0, ..., 1, 1, 101348.88],\n",
              "       [608, 2, 0, ..., 0, 1, 112542.58],\n",
              "       [502, 0, 0, ..., 1, 0, 113931.57],\n",
              "       ...,\n",
              "       [709, 0, 0, ..., 0, 1, 42085.58],\n",
              "       [772, 1, 1, ..., 1, 0, 92888.52],\n",
              "       [792, 0, 0, ..., 1, 0, 38190.78]], dtype=object)"
            ]
          },
          "metadata": {
            "tags": []
          },
          "execution_count": 35
        },
        {
          "output_type": "display_data",
          "data": {
            "image/png": "[encoded data removed]",
            "text/plain": [
              "<Figure size 432x288 with 1 Axes>"
            ]
          },
          "metadata": {
            "tags": []
          }
        }
      ]
    },
    {
      "cell_type": "code",
      "metadata": {
        "id": "YVEqaPZU39Qo",
        "colab_type": "code",
        "colab": {}
      },
      "source": [
        "#creatin dummy variables using yash vardhan sharma\n",
        "from sklearn.preprocessing import OneHotEncoder\n",
        "counthot=OneHotEncoder(categorical_features=[1])"
      ],
      "execution_count": 0,
      "outputs": []
    },
    {
      "cell_type": "code",
      "metadata": {
        "id": "OrJHTvtH4y-F",
        "colab_type": "code",
        "colab": {
          "base_uri": "https://localhost:8080/",
          "height": 154
        },
        "outputId": "35f645cd-b3f9-41d6-ede3-ba1930cc51ac"
      },
      "source": [
        "#fit and transform \n",
        "features=counthot.fit_transform(features).toarray()\n",
        "features=features[:,1:]\n",
        "features.shape"
      ],
      "execution_count": 37,
      "outputs": [
        {
          "output_type": "stream",
          "text": [
            "/usr/local/lib/python3.6/dist-packages/sklearn/preprocessing/_encoders.py:415: FutureWarning: The handling of integer data will change in version 0.22. Currently, the categories are determined based on the range [0, max(values)], while in the future they will be determined based on the unique values.\n",
            "If you want the future behaviour and silence this warning, you can specify \"categories='auto'\".\n",
            "In case you used a LabelEncoder before this OneHotEncoder to convert the categories to integers, then you can now use the OneHotEncoder directly.\n",
            "  warnings.warn(msg, FutureWarning)\n",
            "/usr/local/lib/python3.6/dist-packages/sklearn/preprocessing/_encoders.py:451: DeprecationWarning: The 'categorical_features' keyword is deprecated in version 0.20 and will be removed in 0.22. You can use the ColumnTransformer instead.\n",
            "  \"use the ColumnTransformer instead.\", DeprecationWarning)\n"
          ],
          "name": "stderr"
        },
        {
          "output_type": "execute_result",
          "data": {
            "text/plain": [
              "(10000, 11)"
            ]
          },
          "metadata": {
            "tags": []
          },
          "execution_count": 37
        }
      ]
    },
    {
      "cell_type": "code",
      "metadata": {
        "id": "KQ5WvwjX5q20",
        "colab_type": "code",
        "colab": {}
      },
      "source": [
        "#training and testing\n",
        "from sklearn.model_selection import train_test_split\n",
        "X,x,Y,y=train_test_split(features,label,test_size=0.2)"
      ],
      "execution_count": 0,
      "outputs": []
    },
    {
      "cell_type": "code",
      "metadata": {
        "id": "RwIwDhgT8fyG",
        "colab_type": "code",
        "colab": {}
      },
      "source": [
        "#feature scaling\n",
        "from sklearn.preprocessing import StandardScaler\n",
        "sc=StandardScaler()\n",
        "X=sc.fit_transform(X)\n",
        "#testing data tramnsform\n",
        "x=sc.transform(x)"
      ],
      "execution_count": 0,
      "outputs": []
    },
    {
      "cell_type": "code",
      "metadata": {
        "id": "HANxx1Hi9Kc6",
        "colab_type": "code",
        "colab": {
          "base_uri": "https://localhost:8080/",
          "height": 33
        },
        "outputId": "57f29033-3f2e-4170-bb9d-34cf489b7b1c"
      },
      "source": [
        "x.shape"
      ],
      "execution_count": 40,
      "outputs": [
        {
          "output_type": "execute_result",
          "data": {
            "text/plain": [
              "(2000, 11)"
            ]
          },
          "metadata": {
            "tags": []
          },
          "execution_count": 40
        }
      ]
    },
    {
      "cell_type": "code",
      "metadata": {
        "id": "1NUo6hgG9R-G",
        "colab_type": "code",
        "colab": {
          "base_uri": "https://localhost:8080/",
          "height": 33
        },
        "outputId": "64456407-5e5d-4ea4-f87a-153426ceabfc"
      },
      "source": [
        "X.shape"
      ],
      "execution_count": 41,
      "outputs": [
        {
          "output_type": "execute_result",
          "data": {
            "text/plain": [
              "(8000, 11)"
            ]
          },
          "metadata": {
            "tags": []
          },
          "execution_count": 41
        }
      ]
    },
    {
      "cell_type": "code",
      "metadata": {
        "id": "DNSKnS7fBedE",
        "colab_type": "code",
        "colab": {
          "base_uri": "https://localhost:8080/",
          "height": 33
        },
        "outputId": "d56f88b8-2d0a-4a44-dd72-4d98e0a46520"
      },
      "source": [
        "#NOW WE CAN CREATE ANN MODEL\n",
        "import keras #this is the framework of using tensorflow in background"
      ],
      "execution_count": 42,
      "outputs": [
        {
          "output_type": "stream",
          "text": [
            "Using TensorFlow backend.\n"
          ],
          "name": "stderr"
        }
      ]
    },
    {
      "cell_type": "code",
      "metadata": {
        "id": "Fv595qnPCwTL",
        "colab_type": "code",
        "colab": {}
      },
      "source": [
        "#keras  ANN model library import\n",
        "from keras.models import Sequential"
      ],
      "execution_count": 0,
      "outputs": []
    },
    {
      "cell_type": "code",
      "metadata": {
        "id": "JQn6h_NSDIzz",
        "colab_type": "code",
        "colab": {
          "base_uri": "https://localhost:8080/",
          "height": 87
        },
        "outputId": "f7d193a6-ccd8-4162-fea6-95a33b108b8b"
      },
      "source": [
        "#filling data in  each layer-\n",
        "from keras.layers import Dense\n",
        "#this will give the method to decide activation layer function and number of nodes in each layer \n",
        "#including input,hidden,output layer\n",
        "\n",
        "\n",
        "#now we can design model\n",
        "model=Sequential()"
      ],
      "execution_count": 45,
      "outputs": [
        {
          "output_type": "stream",
          "text": [
            "WARNING: Logging before flag parsing goes to stderr.\n",
            "W0708 10:12:12.406021 139672381179776 deprecation_wrapper.py:119] From /usr/local/lib/python3.6/dist-packages/keras/backend/tensorflow_backend.py:74: The name tf.get_default_graph is deprecated. Please use tf.compat.v1.get_default_graph instead.\n",
            "\n"
          ],
          "name": "stderr"
        }
      ]
    },
    {
      "cell_type": "code",
      "metadata": {
        "id": "6xDR_N3EEJJW",
        "colab_type": "code",
        "colab": {
          "base_uri": "https://localhost:8080/",
          "height": 104
        },
        "outputId": "26e8e420-d68b-4fee-fcf6-1195948d0894"
      },
      "source": [
        "model.add(Dense(6,input_shape=(11,),activation='relu'))\n",
        "#relu -means rectifier activation function\n"
      ],
      "execution_count": 46,
      "outputs": [
        {
          "output_type": "stream",
          "text": [
            "W0708 10:20:41.500577 139672381179776 deprecation_wrapper.py:119] From /usr/local/lib/python3.6/dist-packages/keras/backend/tensorflow_backend.py:517: The name tf.placeholder is deprecated. Please use tf.compat.v1.placeholder instead.\n",
            "\n",
            "W0708 10:20:41.515571 139672381179776 deprecation_wrapper.py:119] From /usr/local/lib/python3.6/dist-packages/keras/backend/tensorflow_backend.py:4138: The name tf.random_uniform is deprecated. Please use tf.random.uniform instead.\n",
            "\n"
          ],
          "name": "stderr"
        }
      ]
    },
    {
      "cell_type": "code",
      "metadata": {
        "id": "T6fhURGYGYmt",
        "colab_type": "code",
        "colab": {}
      },
      "source": [
        "#adiinfg one more hidden layer\n",
        "model.add(Dense(6,activation='relu')) #we dont have to assign no of inputs after frist or the input layer"
      ],
      "execution_count": 0,
      "outputs": []
    },
    {
      "cell_type": "code",
      "metadata": {
        "id": "Q_yX3uJmHeCV",
        "colab_type": "code",
        "colab": {}
      },
      "source": [
        "#final layer adding\n",
        "model.add(Dense(1,activation='sigmoid'))"
      ],
      "execution_count": 0,
      "outputs": []
    },
    {
      "cell_type": "code",
      "metadata": {
        "id": "gMxxfm1GH2wE",
        "colab_type": "code",
        "colab": {
          "base_uri": "https://localhost:8080/",
          "height": 154
        },
        "outputId": "21faaf93-39a1-4383-dc20-35336e6c7ded"
      },
      "source": [
        "#compile \n",
        "model.compile(optimizer='adam',loss='binary_crossentropy',metrics=['accuracy']) #optimizer -- weight adjust method -- stochitis  gd adam"
      ],
      "execution_count": 49,
      "outputs": [
        {
          "output_type": "stream",
          "text": [
            "W0708 10:33:56.650867 139672381179776 deprecation_wrapper.py:119] From /usr/local/lib/python3.6/dist-packages/keras/optimizers.py:790: The name tf.train.Optimizer is deprecated. Please use tf.compat.v1.train.Optimizer instead.\n",
            "\n",
            "W0708 10:33:56.680297 139672381179776 deprecation_wrapper.py:119] From /usr/local/lib/python3.6/dist-packages/keras/backend/tensorflow_backend.py:3376: The name tf.log is deprecated. Please use tf.math.log instead.\n",
            "\n",
            "W0708 10:33:56.687011 139672381179776 deprecation.py:323] From /usr/local/lib/python3.6/dist-packages/tensorflow/python/ops/nn_impl.py:180: add_dispatch_support.<locals>.wrapper (from tensorflow.python.ops.array_ops) is deprecated and will be removed in a future version.\n",
            "Instructions for updating:\n",
            "Use tf.where in 2.0, which has the same broadcast rule as np.where\n"
          ],
          "name": "stderr"
        }
      ]
    },
    {
      "cell_type": "code",
      "metadata": {
        "id": "ccgS5qkRJaZO",
        "colab_type": "code",
        "colab": {
          "base_uri": "https://localhost:8080/",
          "height": 1000
        },
        "outputId": "a472c44a-7b82-4ab9-cc26-cf524e2e4aee"
      },
      "source": [
        "#training data fit\n",
        "model.model.fit(X,Y,batch_size=30,epochs=100)"
      ],
      "execution_count": 53,
      "outputs": [
        {
          "output_type": "stream",
          "text": [
            "Epoch 1/100\n",
            "3810/8000 [=============>................] - ETA: 0s - loss: 0.4431 - acc: 0.7997"
          ],
          "name": "stdout"
        },
        {
          "output_type": "stream",
          "text": [
            "/usr/local/lib/python3.6/dist-packages/keras/engine/sequential.py:110: UserWarning: `Sequential.model` is deprecated. `Sequential` is a subclass of `Model`, you can just use your `Sequential` instance directly.\n",
            "  warnings.warn('`Sequential.model` is deprecated. '\n"
          ],
          "name": "stderr"
        },
        {
          "output_type": "stream",
          "text": [
            "8000/8000 [==============================] - 0s 41us/step - loss: 0.4336 - acc: 0.8067\n",
            "Epoch 2/100\n",
            "8000/8000 [==============================] - 0s 40us/step - loss: 0.4245 - acc: 0.8101\n",
            "Epoch 3/100\n",
            "8000/8000 [==============================] - 0s 39us/step - loss: 0.4177 - acc: 0.8145\n",
            "Epoch 4/100\n",
            "8000/8000 [==============================] - 0s 42us/step - loss: 0.4119 - acc: 0.8176\n",
            "Epoch 5/100\n",
            "8000/8000 [==============================] - 0s 41us/step - loss: 0.4068 - acc: 0.8229\n",
            "Epoch 6/100\n",
            "8000/8000 [==============================] - 0s 41us/step - loss: 0.4016 - acc: 0.8241\n",
            "Epoch 7/100\n",
            "8000/8000 [==============================] - 0s 41us/step - loss: 0.3964 - acc: 0.8240\n",
            "Epoch 8/100\n",
            "8000/8000 [==============================] - 0s 40us/step - loss: 0.3900 - acc: 0.8272\n",
            "Epoch 9/100\n",
            "8000/8000 [==============================] - 0s 41us/step - loss: 0.3823 - acc: 0.8371\n",
            "Epoch 10/100\n",
            "8000/8000 [==============================] - 0s 41us/step - loss: 0.3727 - acc: 0.8439\n",
            "Epoch 11/100\n",
            "8000/8000 [==============================] - 0s 41us/step - loss: 0.3644 - acc: 0.8499\n",
            "Epoch 12/100\n",
            "8000/8000 [==============================] - 0s 40us/step - loss: 0.3584 - acc: 0.8532\n",
            "Epoch 13/100\n",
            "8000/8000 [==============================] - 0s 40us/step - loss: 0.3539 - acc: 0.8562\n",
            "Epoch 14/100\n",
            "8000/8000 [==============================] - 0s 40us/step - loss: 0.3509 - acc: 0.8569\n",
            "Epoch 15/100\n",
            "8000/8000 [==============================] - 0s 40us/step - loss: 0.3487 - acc: 0.8572\n",
            "Epoch 16/100\n",
            "8000/8000 [==============================] - 0s 40us/step - loss: 0.3474 - acc: 0.8581\n",
            "Epoch 17/100\n",
            "8000/8000 [==============================] - 0s 40us/step - loss: 0.3461 - acc: 0.8602\n",
            "Epoch 18/100\n",
            "8000/8000 [==============================] - 0s 40us/step - loss: 0.3449 - acc: 0.8585\n",
            "Epoch 19/100\n",
            "8000/8000 [==============================] - 0s 40us/step - loss: 0.3441 - acc: 0.8590\n",
            "Epoch 20/100\n",
            "8000/8000 [==============================] - 0s 40us/step - loss: 0.3434 - acc: 0.8594\n",
            "Epoch 21/100\n",
            "8000/8000 [==============================] - 0s 40us/step - loss: 0.3425 - acc: 0.8601\n",
            "Epoch 22/100\n",
            "8000/8000 [==============================] - 0s 40us/step - loss: 0.3418 - acc: 0.8595\n",
            "Epoch 23/100\n",
            "8000/8000 [==============================] - 0s 40us/step - loss: 0.3419 - acc: 0.8595\n",
            "Epoch 24/100\n",
            "8000/8000 [==============================] - 0s 40us/step - loss: 0.3406 - acc: 0.8620\n",
            "Epoch 25/100\n",
            "8000/8000 [==============================] - 0s 40us/step - loss: 0.3406 - acc: 0.8615\n",
            "Epoch 26/100\n",
            "8000/8000 [==============================] - 0s 41us/step - loss: 0.3397 - acc: 0.8617\n",
            "Epoch 27/100\n",
            "8000/8000 [==============================] - 0s 40us/step - loss: 0.3393 - acc: 0.8627\n",
            "Epoch 28/100\n",
            "8000/8000 [==============================] - 0s 40us/step - loss: 0.3385 - acc: 0.8612\n",
            "Epoch 29/100\n",
            "8000/8000 [==============================] - 0s 40us/step - loss: 0.3379 - acc: 0.8616\n",
            "Epoch 30/100\n",
            "8000/8000 [==============================] - 0s 40us/step - loss: 0.3375 - acc: 0.8615\n",
            "Epoch 31/100\n",
            "8000/8000 [==============================] - 0s 40us/step - loss: 0.3372 - acc: 0.8624\n",
            "Epoch 32/100\n",
            "8000/8000 [==============================] - 0s 40us/step - loss: 0.3371 - acc: 0.8615\n",
            "Epoch 33/100\n",
            "8000/8000 [==============================] - 0s 40us/step - loss: 0.3366 - acc: 0.8626\n",
            "Epoch 34/100\n",
            "8000/8000 [==============================] - 0s 40us/step - loss: 0.3360 - acc: 0.8630\n",
            "Epoch 35/100\n",
            "8000/8000 [==============================] - 0s 40us/step - loss: 0.3363 - acc: 0.8614\n",
            "Epoch 36/100\n",
            "8000/8000 [==============================] - 0s 40us/step - loss: 0.3353 - acc: 0.8630\n",
            "Epoch 37/100\n",
            "8000/8000 [==============================] - 0s 39us/step - loss: 0.3353 - acc: 0.8622\n",
            "Epoch 38/100\n",
            "8000/8000 [==============================] - 0s 41us/step - loss: 0.3351 - acc: 0.8636\n",
            "Epoch 39/100\n",
            "8000/8000 [==============================] - 0s 41us/step - loss: 0.3350 - acc: 0.8636\n",
            "Epoch 40/100\n",
            "8000/8000 [==============================] - 0s 42us/step - loss: 0.3346 - acc: 0.8632\n",
            "Epoch 41/100\n",
            "8000/8000 [==============================] - 0s 42us/step - loss: 0.3343 - acc: 0.8634\n",
            "Epoch 42/100\n",
            "8000/8000 [==============================] - 0s 40us/step - loss: 0.3340 - acc: 0.8645\n",
            "Epoch 43/100\n",
            "8000/8000 [==============================] - 0s 41us/step - loss: 0.3341 - acc: 0.8647\n",
            "Epoch 44/100\n",
            "8000/8000 [==============================] - 0s 41us/step - loss: 0.3334 - acc: 0.8645\n",
            "Epoch 45/100\n",
            "8000/8000 [==============================] - 0s 40us/step - loss: 0.3334 - acc: 0.8650\n",
            "Epoch 46/100\n",
            "8000/8000 [==============================] - 0s 40us/step - loss: 0.3331 - acc: 0.8645\n",
            "Epoch 47/100\n",
            "8000/8000 [==============================] - 0s 41us/step - loss: 0.3333 - acc: 0.8651\n",
            "Epoch 48/100\n",
            "8000/8000 [==============================] - 0s 40us/step - loss: 0.3328 - acc: 0.8650\n",
            "Epoch 49/100\n",
            "8000/8000 [==============================] - 0s 41us/step - loss: 0.3328 - acc: 0.8645\n",
            "Epoch 50/100\n",
            "8000/8000 [==============================] - 0s 40us/step - loss: 0.3326 - acc: 0.8654\n",
            "Epoch 51/100\n",
            "8000/8000 [==============================] - 0s 40us/step - loss: 0.3323 - acc: 0.8654\n",
            "Epoch 52/100\n",
            "8000/8000 [==============================] - 0s 40us/step - loss: 0.3322 - acc: 0.8652\n",
            "Epoch 53/100\n",
            "8000/8000 [==============================] - 0s 41us/step - loss: 0.3318 - acc: 0.8679\n",
            "Epoch 54/100\n",
            "8000/8000 [==============================] - 0s 41us/step - loss: 0.3318 - acc: 0.8659\n",
            "Epoch 55/100\n",
            "8000/8000 [==============================] - 0s 41us/step - loss: 0.3318 - acc: 0.8649\n",
            "Epoch 56/100\n",
            "8000/8000 [==============================] - 0s 41us/step - loss: 0.3318 - acc: 0.8647\n",
            "Epoch 57/100\n",
            "8000/8000 [==============================] - 0s 40us/step - loss: 0.3314 - acc: 0.8654\n",
            "Epoch 58/100\n",
            "8000/8000 [==============================] - 0s 41us/step - loss: 0.3313 - acc: 0.8655\n",
            "Epoch 59/100\n",
            "8000/8000 [==============================] - 0s 41us/step - loss: 0.3313 - acc: 0.8664\n",
            "Epoch 60/100\n",
            "8000/8000 [==============================] - 0s 41us/step - loss: 0.3310 - acc: 0.8650\n",
            "Epoch 61/100\n",
            "8000/8000 [==============================] - 0s 40us/step - loss: 0.3312 - acc: 0.8646\n",
            "Epoch 62/100\n",
            "8000/8000 [==============================] - 0s 40us/step - loss: 0.3311 - acc: 0.8655\n",
            "Epoch 63/100\n",
            "8000/8000 [==============================] - 0s 40us/step - loss: 0.3306 - acc: 0.8652\n",
            "Epoch 64/100\n",
            "8000/8000 [==============================] - 0s 41us/step - loss: 0.3303 - acc: 0.8654\n",
            "Epoch 65/100\n",
            "8000/8000 [==============================] - 0s 41us/step - loss: 0.3306 - acc: 0.8674\n",
            "Epoch 66/100\n",
            "8000/8000 [==============================] - 0s 40us/step - loss: 0.3304 - acc: 0.8655\n",
            "Epoch 67/100\n",
            "8000/8000 [==============================] - 0s 41us/step - loss: 0.3305 - acc: 0.8662\n",
            "Epoch 68/100\n",
            "8000/8000 [==============================] - 0s 40us/step - loss: 0.3306 - acc: 0.8670\n",
            "Epoch 69/100\n",
            "8000/8000 [==============================] - 0s 40us/step - loss: 0.3304 - acc: 0.8664\n",
            "Epoch 70/100\n",
            "8000/8000 [==============================] - 0s 40us/step - loss: 0.3303 - acc: 0.8657\n",
            "Epoch 71/100\n",
            "8000/8000 [==============================] - 0s 40us/step - loss: 0.3300 - acc: 0.8659\n",
            "Epoch 72/100\n",
            "8000/8000 [==============================] - 0s 41us/step - loss: 0.3297 - acc: 0.8670\n",
            "Epoch 73/100\n",
            "8000/8000 [==============================] - 0s 42us/step - loss: 0.3299 - acc: 0.8662\n",
            "Epoch 74/100\n",
            "8000/8000 [==============================] - 0s 40us/step - loss: 0.3297 - acc: 0.8649\n",
            "Epoch 75/100\n",
            "8000/8000 [==============================] - 0s 41us/step - loss: 0.3301 - acc: 0.8664\n",
            "Epoch 76/100\n",
            "8000/8000 [==============================] - 0s 41us/step - loss: 0.3299 - acc: 0.8666\n",
            "Epoch 77/100\n",
            "8000/8000 [==============================] - 0s 41us/step - loss: 0.3299 - acc: 0.8662\n",
            "Epoch 78/100\n",
            "8000/8000 [==============================] - 0s 41us/step - loss: 0.3297 - acc: 0.8674\n",
            "Epoch 79/100\n",
            "8000/8000 [==============================] - 0s 40us/step - loss: 0.3298 - acc: 0.8645\n",
            "Epoch 80/100\n",
            "8000/8000 [==============================] - 0s 40us/step - loss: 0.3293 - acc: 0.8649\n",
            "Epoch 81/100\n",
            "8000/8000 [==============================] - 0s 40us/step - loss: 0.3294 - acc: 0.8660\n",
            "Epoch 82/100\n",
            "8000/8000 [==============================] - 0s 40us/step - loss: 0.3295 - acc: 0.8654\n",
            "Epoch 83/100\n",
            "8000/8000 [==============================] - 0s 40us/step - loss: 0.3293 - acc: 0.8649\n",
            "Epoch 84/100\n",
            "8000/8000 [==============================] - 0s 41us/step - loss: 0.3291 - acc: 0.8656\n",
            "Epoch 85/100\n",
            "8000/8000 [==============================] - 0s 41us/step - loss: 0.3294 - acc: 0.8655\n",
            "Epoch 86/100\n",
            "8000/8000 [==============================] - 0s 41us/step - loss: 0.3291 - acc: 0.8660\n",
            "Epoch 87/100\n",
            "8000/8000 [==============================] - 0s 40us/step - loss: 0.3292 - acc: 0.8654\n",
            "Epoch 88/100\n",
            "8000/8000 [==============================] - 0s 40us/step - loss: 0.3288 - acc: 0.8642\n",
            "Epoch 89/100\n",
            "8000/8000 [==============================] - 0s 40us/step - loss: 0.3289 - acc: 0.8657\n",
            "Epoch 90/100\n",
            "8000/8000 [==============================] - 0s 41us/step - loss: 0.3291 - acc: 0.8657\n",
            "Epoch 91/100\n",
            "8000/8000 [==============================] - 0s 40us/step - loss: 0.3289 - acc: 0.8652\n",
            "Epoch 92/100\n",
            "8000/8000 [==============================] - 0s 41us/step - loss: 0.3289 - acc: 0.8647\n",
            "Epoch 93/100\n",
            "8000/8000 [==============================] - 0s 41us/step - loss: 0.3293 - acc: 0.8656\n",
            "Epoch 94/100\n",
            "8000/8000 [==============================] - 0s 42us/step - loss: 0.3288 - acc: 0.8666\n",
            "Epoch 95/100\n",
            "8000/8000 [==============================] - 0s 41us/step - loss: 0.3286 - acc: 0.8651\n",
            "Epoch 96/100\n",
            "8000/8000 [==============================] - 0s 41us/step - loss: 0.3288 - acc: 0.8656\n",
            "Epoch 97/100\n",
            "8000/8000 [==============================] - 0s 40us/step - loss: 0.3286 - acc: 0.8650\n",
            "Epoch 98/100\n",
            "8000/8000 [==============================] - 0s 40us/step - loss: 0.3290 - acc: 0.8660\n",
            "Epoch 99/100\n",
            "8000/8000 [==============================] - 0s 40us/step - loss: 0.3287 - acc: 0.8650\n",
            "Epoch 100/100\n",
            "8000/8000 [==============================] - 0s 40us/step - loss: 0.3283 - acc: 0.8665\n"
          ],
          "name": "stdout"
        },
        {
          "output_type": "execute_result",
          "data": {
            "text/plain": [
              "<keras.callbacks.History at 0x7f07bd8b3668>"
            ]
          },
          "metadata": {
            "tags": []
          },
          "execution_count": 53
        }
      ]
    },
    {
      "cell_type": "code",
      "metadata": {
        "id": "5m5YcvsrKiwg",
        "colab_type": "code",
        "colab": {
          "base_uri": "https://localhost:8080/",
          "height": 134
        },
        "outputId": "def85da6-9ebf-406c-858c-c1a6776e09ee"
      },
      "source": [
        "model.predict(x) #now predicting test data"
      ],
      "execution_count": 54,
      "outputs": [
        {
          "output_type": "execute_result",
          "data": {
            "text/plain": [
              "array([[0.08411127],\n",
              "       [0.42400396],\n",
              "       [0.08428922],\n",
              "       ...,\n",
              "       [0.01084653],\n",
              "       [0.06589255],\n",
              "       [0.25263137]], dtype=float32)"
            ]
          },
          "metadata": {
            "tags": []
          },
          "execution_count": 54
        }
      ]
    },
    {
      "cell_type": "code",
      "metadata": {
        "id": "qLm2OK2EK9IP",
        "colab_type": "code",
        "colab": {}
      },
      "source": [
        ""
      ],
      "execution_count": 0,
      "outputs": []
    }
  ]
}