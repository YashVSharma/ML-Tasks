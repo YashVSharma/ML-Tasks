{
  "nbformat": 4,
  "nbformat_minor": 0,
  "metadata": {
    "colab": {
      "name": "spacy.ipynb",
      "version": "0.3.2",
      "provenance": [],
      "include_colab_link": true
    },
    "kernelspec": {
      "name": "python3",
      "display_name": "Python 3"
    }
  },
  "cells": [
    {
      "cell_type": "markdown",
      "metadata": {
        "id": "view-in-github",
        "colab_type": "text"
      },
      "source": [
        "<a href=\"https://colab.research.google.com/github/YashVSharma/ML-Tasks/blob/master/spacy.ipynb\" target=\"_parent\"><img src=\"https://colab.research.google.com/assets/colab-badge.svg\" alt=\"Open In Colab\"/></a>"
      ]
    },
    {
      "cell_type": "code",
      "metadata": {
        "id": "Wj3vc1rDfJJF",
        "colab_type": "code",
        "colab": {
          "base_uri": "https://localhost:8080/",
          "height": 33
        },
        "outputId": "e2812e85-6ce4-4663-c3d8-53a61f97404d"
      },
      "source": [
        "import spacy\n",
        "nlp=spacy.load('en')\n",
        "data=\"hii hello how are you i am finen yash chakk de phate\"\n",
        "newdata=nlp(data)\n",
        "newdata"
      ],
      "execution_count": 6,
      "outputs": [
        {
          "output_type": "execute_result",
          "data": {
            "text/plain": [
              "hii hello how are you i am finen yash chakk de phate"
            ]
          },
          "metadata": {
            "tags": []
          },
          "execution_count": 6
        }
      ]
    },
    {
      "cell_type": "code",
      "metadata": {
        "id": "OI8iQd9WfaEP",
        "colab_type": "code",
        "colab": {
          "base_uri": "https://localhost:8080/",
          "height": 619
        },
        "outputId": "9846cfd1-cfca-4d4d-f0d1-b3c6446ce671"
      },
      "source": [
        "for i in newdata:\n",
        "   print(i,\"lemmariation of word is\",i.lemma_)\n",
        "   print(\"#############################################\")\n",
        "   print(i,\"POS\",i.pos_)"
      ],
      "execution_count": 7,
      "outputs": [
        {
          "output_type": "stream",
          "text": [
            "hii lemmariation of word is hii\n",
            "#############################################\n",
            "hii POS INTJ\n",
            "hello lemmariation of word is hello\n",
            "#############################################\n",
            "hello POS INTJ\n",
            "how lemmariation of word is how\n",
            "#############################################\n",
            "how POS ADV\n",
            "are lemmariation of word is be\n",
            "#############################################\n",
            "are POS VERB\n",
            "you lemmariation of word is -PRON-\n",
            "#############################################\n",
            "you POS PRON\n",
            "i lemmariation of word is i\n",
            "#############################################\n",
            "i POS PRON\n",
            "am lemmariation of word is be\n",
            "#############################################\n",
            "am POS VERB\n",
            "finen lemmariation of word is finen\n",
            "#############################################\n",
            "finen POS ADJ\n",
            "yash lemmariation of word is yash\n",
            "#############################################\n",
            "yash POS NOUN\n",
            "chakk lemmariation of word is chakk\n",
            "#############################################\n",
            "chakk POS NOUN\n",
            "de lemmariation of word is de\n",
            "#############################################\n",
            "de POS X\n",
            "phate lemmariation of word is phate\n",
            "#############################################\n",
            "phate POS NOUN\n"
          ],
          "name": "stdout"
        }
      ]
    },
    {
      "cell_type": "code",
      "metadata": {
        "id": "hkOzZ7PKfzSW",
        "colab_type": "code",
        "colab": {}
      },
      "source": [
        ""
      ],
      "execution_count": 0,
      "outputs": []
    }
  ]
}