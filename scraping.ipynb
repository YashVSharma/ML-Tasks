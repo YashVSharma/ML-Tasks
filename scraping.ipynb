{
  "nbformat": 4,
  "nbformat_minor": 0,
  "metadata": {
    "colab": {
      "name": "Welcome To Colaboratory",
      "version": "0.3.2",
      "provenance": [],
      "collapsed_sections": [],
      "toc_visible": true,
      "include_colab_link": true
    },
    "kernelspec": {
      "display_name": "Python 3",
      "name": "python3"
    }
  },
  "cells": [
    {
      "cell_type": "markdown",
      "metadata": {
        "id": "view-in-github",
        "colab_type": "text"
      },
      "source": [
        "<a href=\"https://colab.research.google.com/github/YashVSharma/ML-Tasks/blob/master/scraping.ipynb\" target=\"_parent\"><img src=\"https://colab.research.google.com/assets/colab-badge.svg\" alt=\"Open In Colab\"/></a>"
      ]
    },
    {
      "cell_type": "markdown",
      "metadata": {
        "colab_type": "text",
        "id": "5fCEDCU_qrC0"
      },
      "source": [
        "<p><img alt=\"Colaboratory logo\" height=\"45px\" src=\"https://colab.research.google.com/img/colab_favicon.ico\" align=\"left\" hspace=\"10px\" vspace=\"0px\"></p>\n",
        "\n",
        "<h1>Welcome to Colaboratory!</h1>\n",
        "\n",
        "\n",
        "Colaboratory is a free Jupyter notebook environment that requires no setup and runs entirely in the cloud.\n",
        "\n",
        "With Colaboratory you can write and execute code, save and share your analyses, and access powerful computing resources, all for free from your browser."
      ]
    },
    {
      "cell_type": "code",
      "metadata": {
        "colab_type": "code",
        "id": "xitplqMNk_Hc",
        "outputId": "ed4f60d2-878d-4056-c438-352dac39a112",
        "colab": {
          "height": 420
        }
      },
      "source": [
        "#@title Introducing Colaboratory { display-mode: \"form\" }\n",
        "#@markdown This 3-minute video gives an overview of the key features of Colaboratory:\n",
        "from IPython.display import YouTubeVideo\n",
        "YouTubeVideo('inN8seMm7UI', width=600, height=400)"
      ],
      "execution_count": 0,
      "outputs": [
        {
          "output_type": "execute_result",
          "data": {
            "text/html": [
              "\n",
              "        <iframe\n",
              "            width=\"600\"\n",
              "            height=\"400\"\n",
              "            src=\"https://www.youtube.com/embed/inN8seMm7UI\"\n",
              "            frameborder=\"0\"\n",
              "            allowfullscreen\n",
              "        ></iframe>\n",
              "        "
            ],
            "text/plain": [
              "<IPython.lib.display.YouTubeVideo at 0x7f956e9dda50>"
            ]
          },
          "metadata": {
            "tags": []
          },
          "execution_count": 0
        }
      ]
    },
    {
      "cell_type": "markdown",
      "metadata": {
        "colab_type": "text",
        "id": "GJBs_flRovLc"
      },
      "source": [
        "## Getting Started\n",
        "\n",
        "The document you are reading is a  [Jupyter notebook](https://jupyter.org/), hosted in Colaboratory. It is not a static page, but an interactive environment that lets you write and execute code in Python and other languages.\n",
        "\n",
        "For example, here is a **code cell** with a short Python script that computes a value, stores it in a variable, and prints the result:"
      ]
    },
    {
      "cell_type": "code",
      "metadata": {
        "colab_type": "code",
        "id": "gJr_9dXGpJ05",
        "outputId": "5626194c-e802-4293-942d-2908885c3c1f",
        "colab": {
          "height": 35
        }
      },
      "source": [
        "seconds_in_a_day = 24 * 60 * 60\n",
        "seconds_in_a_day"
      ],
      "execution_count": 0,
      "outputs": [
        {
          "output_type": "execute_result",
          "data": {
            "text/plain": [
              "86400"
            ]
          },
          "metadata": {
            "tags": []
          },
          "execution_count": 0
        }
      ]
    },
    {
      "cell_type": "markdown",
      "metadata": {
        "colab_type": "text",
        "id": "2fhs6GZ4qFMx"
      },
      "source": [
        "To execute the code in the above cell, select it with a click and then either press the play button to the left of the code, or use the keyboard shortcut \"Command/Ctrl+Enter\".\n",
        "\n",
        "All cells modify the same global state, so variables that you define by executing a cell can be used in other cells:"
      ]
    },
    {
      "cell_type": "code",
      "metadata": {
        "colab_type": "code",
        "id": "-gE-Ez1qtyIA",
        "outputId": "8d2e4259-4682-4e19-b683-7b9087f28820",
        "colab": {
          "height": 35
        }
      },
      "source": [
        "seconds_in_a_week = 7 * seconds_in_a_day\n",
        "seconds_in_a_week"
      ],
      "execution_count": 0,
      "outputs": [
        {
          "output_type": "execute_result",
          "data": {
            "text/plain": [
              "604800"
            ]
          },
          "metadata": {
            "tags": []
          },
          "execution_count": 0
        }
      ]
    },
    {
      "cell_type": "markdown",
      "metadata": {
        "colab_type": "text",
        "id": "lSrWNr3MuFUS"
      },
      "source": [
        "For more information about working with Colaboratory notebooks, see [Overview of Colaboratory](/notebooks/basic_features_overview.ipynb).\n"
      ]
    },
    {
      "cell_type": "markdown",
      "metadata": {
        "colab_type": "text",
        "id": "-Rh3-Vt9Nev9"
      },
      "source": [
        "## More Resources\n",
        "\n",
        "Learn how to make the most of Python, Jupyter, Colaboratory, and related tools with these resources:\n",
        "\n",
        "### Working with Notebooks in Colaboratory\n",
        "- [Overview of Colaboratory](/notebooks/basic_features_overview.ipynb)\n",
        "- [Guide to Markdown](/notebooks/markdown_guide.ipynb)\n",
        "- [Importing libraries and installing dependencies](/notebooks/snippets/importing_libraries.ipynb)\n",
        "- [Saving and loading notebooks in GitHub](https://colab.research.google.com/github/googlecolab/colabtools/blob/master/notebooks/colab-github-demo.ipynb)\n",
        "- [Interactive forms](/notebooks/forms.ipynb)\n",
        "- [Interactive widgets](/notebooks/widgets.ipynb)\n",
        "\n",
        "### Working with Data\n",
        "- [Loading data: Drive, Sheets, and Google Cloud Storage](/notebooks/io.ipynb) \n",
        "- [Charts: visualizing data](/notebooks/charts.ipynb)\n",
        "- [Getting started with BigQuery](/notebooks/bigquery.ipynb)\n",
        "\n",
        "### Machine Learning Crash Course\n",
        "These are a few of the notebooks from Google's online Machine Learning course. See the [full course website](https://developers.google.com/machine-learning/crash-course/) for more.\n",
        "- [Intro to Pandas](/notebooks/mlcc/intro_to_pandas.ipynb)\n",
        "- [Tensorflow concepts](/notebooks/mlcc/tensorflow_programming_concepts.ipynb)\n",
        "- [First steps with TensorFlow](/notebooks/mlcc/first_steps_with_tensor_flow.ipynb)\n",
        "- [Intro to neural nets](/notebooks/mlcc/intro_to_neural_nets.ipynb)\n",
        "- [Intro to sparse data and embeddings](/notebooks/mlcc/intro_to_sparse_data_and_embeddings.ipynb)\n",
        "\n",
        "### Using Accelerated Hardware\n",
        "- [TensorFlow with GPUs](/notebooks/gpu.ipynb)\n",
        "- [TensorFlow with TPUs](/notebooks/tpu.ipynb)"
      ]
    },
    {
      "cell_type": "markdown",
      "metadata": {
        "colab_type": "text",
        "id": "P-H6Lw1vyNNd"
      },
      "source": [
        "## Machine Learning Examples: Seedbank\n",
        "\n",
        "To see end-to-end examples of the interactive machine learning analyses that Colaboratory makes possible, check out the [Seedbank](https://research.google.com/seedbank/) project.\n",
        "\n",
        "A few featured examples:\n",
        "\n",
        "- [Neural Style Transfer](https://research.google.com/seedbank/seed/neural_style_transfer_with_tfkeras): Use deep learning to transfer style between images.\n",
        "- [EZ NSynth](https://research.google.com/seedbank/seed/ez_nsynth): Synthesize audio with WaveNet auto-encoders.\n",
        "- [Fashion MNIST with Keras and TPUs](https://research.google.com/seedbank/seed/fashion_mnist_with_keras_and_tpus): Classify fashion-related images with deep learning.\n",
        "- [DeepDream](https://research.google.com/seedbank/seed/deepdream): Produce DeepDream images from your own photos.\n",
        "- [Convolutional VAE](https://research.google.com/seedbank/seed/convolutional_vae): Create a generative model of handwritten digits."
      ]
    },
    {
      "cell_type": "code",
      "metadata": {
        "id": "DGpiFh6iUxtG",
        "colab_type": "code",
        "colab": {
          "base_uri": "https://localhost:8080/",
          "height": 129
        },
        "outputId": "865bb926-17ea-4854-ae14-981b2d806cda"
      },
      "source": [
        "pip3 install bs4\n"
      ],
      "execution_count": 1,
      "outputs": [
        {
          "output_type": "error",
          "ename": "SyntaxError",
          "evalue": "ignored",
          "traceback": [
            "\u001b[0;36m  File \u001b[0;32m\"<ipython-input-1-9e43e269b197>\"\u001b[0;36m, line \u001b[0;32m1\u001b[0m\n\u001b[0;31m    pip3 install bs4\u001b[0m\n\u001b[0m               ^\u001b[0m\n\u001b[0;31mSyntaxError\u001b[0m\u001b[0;31m:\u001b[0m invalid syntax\n"
          ]
        }
      ]
    },
    {
      "cell_type": "code",
      "metadata": {
        "id": "RXduTu4rU1Qw",
        "colab_type": "code",
        "colab": {}
      },
      "source": [
        "from bs4 import BeautifulSoup"
      ],
      "execution_count": 0,
      "outputs": []
    },
    {
      "cell_type": "code",
      "metadata": {
        "id": "EjYdnAIdVC2h",
        "colab_type": "code",
        "colab": {}
      },
      "source": [
        "import requests"
      ],
      "execution_count": 0,
      "outputs": []
    },
    {
      "cell_type": "code",
      "metadata": {
        "id": "T1tyMrO-VIyf",
        "colab_type": "code",
        "colab": {}
      },
      "source": [
        "url=\"https://en.wikipedia.org/wiki/Chak_De_Phatte\"\n",
        "response=requests.get(url) #sneding the req. to the url and taking thr response\n",
        "soup=BeautifulSoup(response.text,\"lxml\")# parsing library - html.parser and  second is lxml\n"
      ],
      "execution_count": 0,
      "outputs": []
    },
    {
      "cell_type": "code",
      "metadata": {
        "id": "9bNvRyrqVSLL",
        "colab_type": "code",
        "colab": {
          "base_uri": "https://localhost:8080/",
          "height": 1000
        },
        "outputId": "ffc9e5b2-4a4f-4745-f294-d9ef8aba2dea"
      },
      "source": [
        "for alink in soup.find_all('a'):\n",
        "  print(alink.get(\"href\"))"
      ],
      "execution_count": 9,
      "outputs": [
        {
          "output_type": "stream",
          "text": [
            "None\n",
            "#mw-head\n",
            "#p-search\n",
            "//en.wikipedia.org/w/index.php?title=Chak_De_Phatte&action=edit\n",
            "/wiki/Talk:Chak_De_Phatte\n",
            "/wiki/Help:Maintenance_template_removal\n",
            "/wiki/File:Question_book-new.svg\n",
            "/wiki/Wikipedia:Verifiability\n",
            "//en.wikipedia.org/w/index.php?title=Chak_De_Phatte&action=edit\n",
            "/wiki/Help:Introduction_to_referencing_with_Wiki_Markup/1\n",
            "//www.google.com/search?as_eq=wikipedia&q=%22Chak+De+Phatte%22\n",
            "//www.google.com/search?tbm=nws&q=%22Chak+De+Phatte%22+-wikipedia\n",
            "//www.google.com/search?&q=%22Chak+De+Phatte%22+site:news.google.com/newspapers&source=newspapers\n",
            "//www.google.com/search?tbs=bks:1&q=%22Chak+De+Phatte%22+-wikipedia\n",
            "//scholar.google.com/scholar?q=%22Chak+De+Phatte%22\n",
            "https://www.jstor.org/action/doBasicSearch?Query=%22Chak+De+Phatte%22&acc=on&wc=on\n",
            "/wiki/Help:Maintenance_template_removal\n",
            "/wiki/Wikipedia:Content_forking#Article_spinoffs:_.22Summary_style.22_meta-articles_and_summary_sections\n",
            "/wiki/Wikipedia:Handling_trivia#Recommendations_for_handling_trivia\n",
            "/wiki/Wikipedia:What_Wikipedia_is_not\n",
            "/wiki/Help:Maintenance_template_removal\n",
            "/wiki/File:Wiki_letter_w.svg\n",
            "/wiki/Wikipedia:Manual_of_Style/Lead_section\n",
            "/wiki/Wikipedia:Summary_style\n",
            "/wiki/Wikipedia:Manual_of_Style/Lead_section#Provide_an_accessible_overview\n",
            "/wiki/Talk:Chak_De_Phatte\n",
            "/wiki/Wikipedia:What_Wikipedia_is_not#PLOT\n",
            "/wiki/Wikipedia:Manual_of_Style/Writing_about_fiction#Real-world_perspective\n",
            "//en.wikipedia.org/w/index.php?title=Chak_De_Phatte&action=edit\n",
            "/wiki/Wikipedia:Manual_of_Style/Writing_about_fiction\n",
            "/wiki/Help:Maintenance_template_removal\n",
            "/wiki/Help:Maintenance_template_removal\n",
            "/wiki/Smeep_Kang\n",
            "/w/index.php?title=Devinder_Sandhu&action=edit&redlink=1\n",
            "/wiki/Jaswinder_Bhalla\n",
            "/wiki/Gurpreet_Ghuggi\n",
            "/wiki/Vivek_Shauq\n",
            "/wiki/Jaspal_Bhatti\n",
            "/wiki/Mahi_Gill\n",
            "/w/index.php?title=Surinder_Bachan&action=edit&redlink=1\n",
            "/w/index.php?title=Sunil_Patni&action=edit&redlink=1\n",
            "/wiki/Punjabi_language\n",
            "/wiki/Comedy\n",
            "/wiki/Adventure_film\n",
            "/w/index.php?title=Kshitij_Chaudhary&action=edit&redlink=1\n",
            "#cite_note-:0-1\n",
            "/w/index.php?title=Chak_De_Phatte&action=edit&section=1\n",
            "/wiki/Detective\n",
            "/wiki/Bathinda\n",
            "/w/index.php?title=Chak_De_Phatte&action=edit&section=2\n",
            "/wiki/Smeep_Kang\n",
            "/wiki/Mahi_Gill\n",
            "/wiki/Gurpreet_Ghuggi\n",
            "/wiki/Jaswinder_Bhalla\n",
            "/wiki/Jaspal_Bhatti\n",
            "#cite_note-:0-1\n",
            "/wiki/Gurchet_Chitarkar\n",
            "/wiki/Vivek_Shauq\n",
            "/w/index.php?title=Savita_Bhatti&action=edit&redlink=1\n",
            "/wiki/Upasna_Singh\n",
            "/wiki/B.N._Sharma\n",
            "/w/index.php?title=Chak_De_Phatte&action=edit&section=3\n",
            "#cite_ref-:0_1-0\n",
            "#cite_ref-:0_1-1\n",
            "https://web.archive.org/web/20110910090106/http://www.punjabiportal.com/forum/jaspal-bhatti-chak-de-phatte-t234.html\n",
            "/w/index.php?title=Punjabi_Portal&action=edit&redlink=1\n",
            "http://www.punjabiportal.com/forum/jaspal-bhatti-chak-de-phatte-t234.html\n",
            "https://en.wikipedia.org/w/index.php?title=Chak_De_Phatte&oldid=903632562\n",
            "/wiki/Help:Category\n",
            "/wiki/Category:2008_films\n",
            "/wiki/Category:Punjabi-language_films\n",
            "/wiki/Category:Indian_films\n",
            "/wiki/Category:2000s_Punjabi-language_films\n",
            "/wiki/Category:Use_dmy_dates_from_March_2019\n",
            "/wiki/Category:Use_Indian_English_from_March_2019\n",
            "/wiki/Category:All_Wikipedia_articles_written_in_Indian_English\n",
            "/wiki/Category:Articles_needing_additional_references_from_July_2011\n",
            "/wiki/Category:All_articles_needing_additional_references\n",
            "/wiki/Category:Wikipedia_articles_with_style_issues_from_July_2011\n",
            "/wiki/Category:All_articles_with_style_issues\n",
            "/wiki/Category:Wikipedia_articles_that_are_excessively_detailed_from_July_2011\n",
            "/wiki/Category:All_articles_that_are_excessively_detailed\n",
            "/wiki/Category:Wikipedia_introduction_cleanup_from_July_2011\n",
            "/wiki/Category:All_pages_needing_cleanup\n",
            "/wiki/Category:Articles_covered_by_WikiProject_Wikify_from_July_2011\n",
            "/wiki/Category:All_articles_covered_by_WikiProject_Wikify\n",
            "/wiki/Category:Articles_to_be_expanded_from_July_2018\n",
            "/wiki/Category:All_articles_to_be_expanded\n",
            "/wiki/Category:Articles_with_multiple_maintenance_issues\n",
            "/wiki/Special:MyTalk\n",
            "/wiki/Special:MyContributions\n",
            "/w/index.php?title=Special:CreateAccount&returnto=Chak+De+Phatte\n",
            "/w/index.php?title=Special:UserLogin&returnto=Chak+De+Phatte\n",
            "/wiki/Chak_De_Phatte\n",
            "/wiki/Talk:Chak_De_Phatte\n",
            "/wiki/Chak_De_Phatte\n",
            "/w/index.php?title=Chak_De_Phatte&action=edit\n",
            "/w/index.php?title=Chak_De_Phatte&action=history\n",
            "/wiki/Main_Page\n",
            "/wiki/Main_Page\n",
            "/wiki/Portal:Contents\n",
            "/wiki/Portal:Featured_content\n",
            "/wiki/Portal:Current_events\n",
            "/wiki/Special:Random\n",
            "https://donate.wikimedia.org/wiki/Special:FundraiserRedirector?utm_source=donate&utm_medium=sidebar&utm_campaign=C13_en.wikipedia.org&uselang=en\n",
            "//shop.wikimedia.org\n",
            "/wiki/Help:Contents\n",
            "/wiki/Wikipedia:About\n",
            "/wiki/Wikipedia:Community_portal\n",
            "/wiki/Special:RecentChanges\n",
            "//en.wikipedia.org/wiki/Wikipedia:Contact_us\n",
            "/wiki/Special:WhatLinksHere/Chak_De_Phatte\n",
            "/wiki/Special:RecentChangesLinked/Chak_De_Phatte\n",
            "/wiki/Wikipedia:File_Upload_Wizard\n",
            "/wiki/Special:SpecialPages\n",
            "/w/index.php?title=Chak_De_Phatte&oldid=903632562\n",
            "/w/index.php?title=Chak_De_Phatte&action=info\n",
            "https://www.wikidata.org/wiki/Special:EntityPage/Q5068202\n",
            "/w/index.php?title=Special:CiteThisPage&page=Chak_De_Phatte&id=903632562\n",
            "/w/index.php?title=Special:Book&bookcmd=book_creator&referer=Chak+De+Phatte\n",
            "/w/index.php?title=Special:ElectronPdf&page=Chak+De+Phatte&action=show-download-screen\n",
            "/w/index.php?title=Chak_De_Phatte&printable=yes\n",
            "https://www.wikidata.org/wiki/Special:EntityPage/Q5068202#sitelinks-wikipedia\n",
            "//en.wikipedia.org/wiki/Wikipedia:Text_of_Creative_Commons_Attribution-ShareAlike_3.0_Unported_License\n",
            "//creativecommons.org/licenses/by-sa/3.0/\n",
            "//foundation.wikimedia.org/wiki/Terms_of_Use\n",
            "//foundation.wikimedia.org/wiki/Privacy_policy\n",
            "//www.wikimediafoundation.org/\n",
            "https://foundation.wikimedia.org/wiki/Privacy_policy\n",
            "/wiki/Wikipedia:About\n",
            "/wiki/Wikipedia:General_disclaimer\n",
            "//en.wikipedia.org/wiki/Wikipedia:Contact_us\n",
            "https://www.mediawiki.org/wiki/Special:MyLanguage/How_to_contribute\n",
            "https://foundation.wikimedia.org/wiki/Cookie_statement\n",
            "//en.m.wikipedia.org/w/index.php?title=Chak_De_Phatte&mobileaction=toggle_view_mobile\n",
            "https://wikimediafoundation.org/\n",
            "https://www.mediawiki.org/\n"
          ],
          "name": "stdout"
        }
      ]
    },
    {
      "cell_type": "code",
      "metadata": {
        "id": "i4F3dWL-V2J0",
        "colab_type": "code",
        "colab": {
          "base_uri": "https://localhost:8080/",
          "height": 50
        },
        "outputId": "88b37f44-f9ec-4430-bc8c-3ec47def634f"
      },
      "source": [
        "for ptag in soup.find_all('p'):\n",
        "    #print(ptag)\n",
        "    for btag in ptag.find_all('b'):\n",
        "      print(btag.text)"
      ],
      "execution_count": 17,
      "outputs": [
        {
          "output_type": "stream",
          "text": [
            "Chak De Phattey\n",
            "Bhabhi'\n"
          ],
          "name": "stdout"
        }
      ]
    },
    {
      "cell_type": "code",
      "metadata": {
        "id": "D2nDpwgFW3s3",
        "colab_type": "code",
        "colab": {
          "base_uri": "https://localhost:8080/",
          "height": 137
        },
        "outputId": "87cbb1e5-a025-49fa-f8b9-54589bdcb4f6"
      },
      "source": [
        "import pandas as pd\n",
        "list1=['Ram',25,856]\n",
        "list2=['sham',5,56]\n",
        "list3=['ham',265,56]\n",
        "\n",
        "df=pd.DataFrame([list1,list2,list3],columns=['name','age','mrks'])\n",
        "df"
      ],
      "execution_count": 23,
      "outputs": [
        {
          "output_type": "execute_result",
          "data": {
            "text/html": [
              "<div>\n",
              "<style scoped>\n",
              "    .dataframe tbody tr th:only-of-type {\n",
              "        vertical-align: middle;\n",
              "    }\n",
              "\n",
              "    .dataframe tbody tr th {\n",
              "        vertical-align: top;\n",
              "    }\n",
              "\n",
              "    .dataframe thead th {\n",
              "        text-align: right;\n",
              "    }\n",
              "</style>\n",
              "<table border=\"1\" class=\"dataframe\">\n",
              "  <thead>\n",
              "    <tr style=\"text-align: right;\">\n",
              "      <th></th>\n",
              "      <th>name</th>\n",
              "      <th>age</th>\n",
              "      <th>mrks</th>\n",
              "    </tr>\n",
              "  </thead>\n",
              "  <tbody>\n",
              "    <tr>\n",
              "      <th>0</th>\n",
              "      <td>Ram</td>\n",
              "      <td>25</td>\n",
              "      <td>856</td>\n",
              "    </tr>\n",
              "    <tr>\n",
              "      <th>1</th>\n",
              "      <td>sham</td>\n",
              "      <td>5</td>\n",
              "      <td>56</td>\n",
              "    </tr>\n",
              "    <tr>\n",
              "      <th>2</th>\n",
              "      <td>ham</td>\n",
              "      <td>265</td>\n",
              "      <td>56</td>\n",
              "    </tr>\n",
              "  </tbody>\n",
              "</table>\n",
              "</div>"
            ],
            "text/plain": [
              "   name  age  mrks\n",
              "0   Ram   25   856\n",
              "1  sham    5    56\n",
              "2   ham  265    56"
            ]
          },
          "metadata": {
            "tags": []
          },
          "execution_count": 23
        }
      ]
    },
    {
      "cell_type": "code",
      "metadata": {
        "id": "K5dfSC11ZOPy",
        "colab_type": "code",
        "colab": {}
      },
      "source": [
        ""
      ],
      "execution_count": 0,
      "outputs": []
    }
  ]
}